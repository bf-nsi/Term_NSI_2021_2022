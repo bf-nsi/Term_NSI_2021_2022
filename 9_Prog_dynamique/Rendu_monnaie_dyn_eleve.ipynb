{
 "cells": [
  {
   "cell_type": "markdown",
   "metadata": {},
   "source": [
    "---\n",
    "# TP : Rendu de monnaie et programmation dynamique.\n",
    "---"
   ]
  },
  {
   "cell_type": "markdown",
   "metadata": {},
   "source": [
    "## Le problème\n",
    "\n",
    "Vous avez à votre disposition un nombre illimité de pièces de 2 cts, 5 cts, 10 cts, 50 cts et 1euro (100 cts). \n",
    "Vous devez rendre une certaine somme (rendu de monnaie).\n",
    "\n",
    "Le problème est le suivant : **\"Quel est le nombre minimum de pièces qui doivent être utilisées pour rendre la monnaie\"**\n",
    "\n",
    "La résolution \"[gloutonne](https://fr.wikipedia.org/wiki/Algorithme_glouton)\" de ce problème (déjà étudiée) peut être la suivante :\n",
    "-  On prend la pièce qui a la plus grande valeur (il faut que la valeur de cette pièce soit inférieure ou égale à la somme restant à rendre)\n",
    "-  On recommence l’opération ci-dessus jusqu’au moment où la somme à rendre est égale à zéro."
   ]
  },
  {
   "cell_type": "markdown",
   "metadata": {},
   "source": [
    "<div class=\"alert alert-block alert-warning\">\n",
    "  Exercice 1\n",
    "    \n",
    "Appliquer cette méthode \"à la main\" pour une somme de 1€77 (177cts) à rendre. Détaillez les étapes.  \n",
    "Combien de pièces ont été rendues ?   \n",
    "*Remarque : Vous conceverez un script python par la suite.*\n",
    "    \n",
    "</div>"
   ]
  },
  {
   "cell_type": "markdown",
   "metadata": {},
   "source": [
    "Votre réponse : **ici**  \n"
   ]
  },
  {
   "cell_type": "markdown",
   "metadata": {},
   "source": [
    "<div class=\"alert alert-block alert-warning\">\n",
    "Exercice 2\n",
    "    \n",
    "Appliquer cette méthode \"à la main\" pour une somme de 11 cts à rendre. Détaillez les étapes.  \n",
    "Expliquez le problème.  \n",
    "    \n",
    "</div>"
   ]
  },
  {
   "cell_type": "markdown",
   "metadata": {},
   "source": [
    "Votre réponse : **ici**  \n"
   ]
  },
  {
   "cell_type": "markdown",
   "metadata": {},
   "source": [
    "**Évidemment, le fait que notre algorithme glouton ne soit pas \"capable\" de trouver une solution ne signiﬁe pas qu’il n’existe pas de solution.**"
   ]
  },
  {
   "cell_type": "markdown",
   "metadata": {},
   "source": [
    "<div class=\"alert alert-block alert-warning\">\n",
    "Exercice 3\n",
    "    \n",
    "Donner une solution pour rendre 11 centimes avec le jeu de pièce de ce notebook. \n",
    "    \n",
    "</div>"
   ]
  },
  {
   "cell_type": "markdown",
   "metadata": {},
   "source": [
    "Votre réponse : **ici**  \n"
   ]
  },
  {
   "cell_type": "markdown",
   "metadata": {},
   "source": [
    "## Mise au point d'un algorithme récursif.\n",
    "\n"
   ]
  },
  {
   "cell_type": "markdown",
   "metadata": {},
   "source": [
    "Soit X la somme à rendre, on notera nb(X) le nombre minimal de pièces nécessaires pour\n",
    "rendre la somme X.\n",
    "On note $p_1$, $p_2$, $p_3$, ...,$p_n$ les pièces à notre disposition."
   ]
  },
  {
   "cell_type": "markdown",
   "metadata": {},
   "source": [
    "### Principe\n",
    "<div class=\"alert alert-block alert-success\">\n",
    "Si on est capable de rendre la somme de X cts avec nb(X) pièces, on est alors capable de rendre la somme de X − $p_i$ avec nb(X − $p_i$) + 1 pièces (avec la valeur de pi inférieure à X)  \n",
    "    \n",
    "On a :  \n",
    "Si X = 0 alors nb(X) = 0  \n",
    "Si X > 0 alors nb(X) = nb(X − $p_i$) + 1 avec $1 ≤ i ≤ n$ et $p_i ≤ X$  \n",
    "    \n",
    "Plus précisément :  \n",
    "Si X > 0 alors nb(X) = min(nb(X − $p_i$)) + 1 avec $1 ≤ i ≤ n$ et $pi ≤ X$  \n",
    "    \n",
    "Le \"min\" présent dans la formule de récurrence exprime le fait que le nombre de pièces à rendre pour une somme X − pi doit être le plus petit possible.\n",
    "    \n",
    "</div>"
   ]
  },
  {
   "cell_type": "markdown",
   "metadata": {},
   "source": [
    "Examinons en détails le processus pour la somme de 11 cts à l’aide d’un arbre\n",
    "\n",
    "![rendu 11 cts](https://nc-lycees.netocentre.fr/s/CeF9rX7X2WT4GDQ/download)"
   ]
  },
  {
   "cell_type": "markdown",
   "metadata": {},
   "source": [
    "Plusieurs remarques s’imposent :\n",
    "\n",
    "- Tous les cas sont \"traités\" (quand un algorithme \"traite\" tous les cas possibles, on parle souvent de méthode de \"force brute\".\n",
    "- Pour certains cas, on se retrouve dans une \"impasse\" (cas où on termine par un \"1\")\n",
    "- La profondeur minimum de l’arbre (avec une feuille 0) est de 4, la solution au problème est donc 4 (il existe plusieurs parcours : (5,2,2,2), (2,5,2,2)... qui donne à chaque fois 4)\n",
    "\n",
    "Voici le programme qui réalise ce processus :"
   ]
  },
  {
   "cell_type": "code",
   "execution_count": null,
   "metadata": {},
   "outputs": [],
   "source": [
    "def rendu_monnaie_rec(P,X):\n",
    "    if X==0:\n",
    "        return 0\n",
    "    else:\n",
    "        mini = 1000\n",
    "    for i in range(len(P)):\n",
    "        if P[i]<=X:\n",
    "            nb = 1 + rendu_monnaie_rec(P,X-P[i])\n",
    "            if nb<mini:\n",
    "                mini = nb\n",
    "    return mini\n",
    "\n",
    "pieces = (2,5,10,50,100)\n",
    "rendu_monnaie_rec(pieces,11)"
   ]
  },
  {
   "cell_type": "markdown",
   "metadata": {},
   "source": [
    "Pour être sûr de renvoyer le plus petit nombre de pièces, on attribue dans un premier temps la valeur 1000 à la variable mini (cette valeur 1000 est arbitraire, il faut juste une valeur suﬃsamment grande : on peut partir du principe que nous ne rencontrerons jamais de cas où il faudra rendre plus de 1000 pièces), ensuite, à chaque appel récursif, on \"sauvegarde\"\n",
    "le plus petit nombre de pièces dans cette variable mini."
   ]
  },
  {
   "cell_type": "markdown",
   "metadata": {},
   "source": [
    "<div class=\"alert alert-block alert-warning\">\n",
    "Exercice 4\n",
    "    \n",
    "Faire fonctionner ce programme pour la somme de 11cts.  \n",
    "Faire évoluer la somme à rendre 12 cts, 15 cts, ....  \n",
    "À partir de quelle somme le programme est-il visiblement lent?\n",
    "    \n",
    "</div>"
   ]
  },
  {
   "cell_type": "code",
   "execution_count": null,
   "metadata": {},
   "outputs": [],
   "source": [
    "%%time\n",
    "# Vos appels ici.\n",
    "pieces = (2,5,10,50,100)\n"
   ]
  },
  {
   "cell_type": "markdown",
   "metadata": {},
   "source": [
    "Votre réponse **ici**  \n",
    "A partir de **$\\approx$ 60 cts - 70 cts** les appels sont visiblement plus longs."
   ]
  },
  {
   "cell_type": "markdown",
   "metadata": {},
   "source": [
    "Comme vous l’avez sans doute constaté le programme ne permet pas toujours d’obtenir une solution, pourquoi?"
   ]
  },
  {
   "cell_type": "markdown",
   "metadata": {},
   "source": [
    "**Réponse :**"
   ]
  },
  {
   "cell_type": "markdown",
   "metadata": {},
   "source": [
    "## La méthode dynamique\n",
    "\n",
    "En y regardant de plus près, on s’aperçoit que certains calculs se font plusieurs fois (le rendu de 4 cts par exemple dans le schéma ci-dessous)\n",
    "\n",
    "![rendu 11 cts](https://nc-lycees.netocentre.fr/s/K9Wf2qEFdFcFjZn/download)\n",
    "\n",
    "On va pouvoir appliquer la même méthode que pour Fibonacci : **la programmation dynamique**."
   ]
  },
  {
   "cell_type": "markdown",
   "metadata": {},
   "source": [
    "<div class=\"alert alert-block alert-warning\">\n",
    "Exercice 4\n",
    "    \n",
    "Inspirez-vous de la fonction `rendu_monnaie_rec(P,X)` pour créer une fonction `rendu_monnaie_dyn(P,X,mem)` basée sur le principe de programmation dynamique qui :\n",
    "- prend en paramètres :\n",
    "  - P un jeu de pièces (tuple)\n",
    "  - X la somme à rendre \n",
    "  - mem : une liste contenant les résultats déjà calculés. (à l'appel, il contient X+1 zéros)\n",
    "- retourne le nombre minimal de pièce nescessaire pour rendre la somme X avec le jeu de pièces X.\n",
    "    \n",
    "</div>"
   ]
  },
  {
   "cell_type": "code",
   "execution_count": null,
   "metadata": {},
   "outputs": [],
   "source": [
    "# Votre code ici\n"
   ]
  },
  {
   "cell_type": "code",
   "execution_count": null,
   "metadata": {},
   "outputs": [],
   "source": [
    "%%time\n",
    "# Vos essais ici\n",
    "rendu_monnaie_dyn(pieces,17,18*[0])"
   ]
  },
  {
   "cell_type": "code",
   "execution_count": null,
   "metadata": {},
   "outputs": [],
   "source": [
    "# Les tests à passer.\n",
    "assert rendu_monnaie_dyn(pieces,100,101*[0]) == 1\n",
    "assert rendu_monnaie_dyn(pieces,171,172*[0]) == 7\n",
    "assert rendu_monnaie_dyn(pieces,314,315*[0]) == 6\n",
    "assert rendu_monnaie_dyn(pieces,354,355*[0]) == 6\n",
    "assert rendu_monnaie_dyn(pieces,4632,4633*[0]) == 50"
   ]
  },
  {
   "cell_type": "markdown",
   "metadata": {},
   "source": [
    "<div class=\"alert alert-block alert-warning\">\n",
    "Exercice 5\n",
    "    \n",
    "Améliorez votre code précédent de manière à ne donner que 2 paramètres à votre fonction rendu_monnaie_dyn(P,X) :\n",
    "- P : le jeu de pièces utilisé (tuple)\n",
    "- X : la somme à rendre\n",
    "    \n",
    "Vous pouvez vous inspirer de ce qui a été vu dans le cours. 2 fonctions peuvent être nescessaires...  \n",
    "</div>"
   ]
  },
  {
   "cell_type": "code",
   "execution_count": null,
   "metadata": {},
   "outputs": [],
   "source": [
    "# Votre code ici\n"
   ]
  },
  {
   "cell_type": "code",
   "execution_count": null,
   "metadata": {},
   "outputs": [],
   "source": [
    "# Vos essais ici.\n",
    "rendu_monnaie_dyn(pieces,101)"
   ]
  },
  {
   "cell_type": "code",
   "execution_count": null,
   "metadata": {},
   "outputs": [],
   "source": [
    "# Les tests à passer.\n",
    "assert rendu_monnaie_dyn(pieces,100) == 1\n",
    "assert rendu_monnaie_dyn(pieces,171) == 7\n",
    "assert rendu_monnaie_dyn(pieces,314) == 6\n",
    "assert rendu_monnaie_dyn(pieces,354) == 6\n",
    "assert rendu_monnaie_dyn(pieces,4632) == 50"
   ]
  },
  {
   "cell_type": "markdown",
   "metadata": {},
   "source": [
    "## Partie facultative\n",
    "\n",
    "Idée : améliorer encore notre fonction pour quelle donne les pièces à utiliser pour rendre la monnaie."
   ]
  },
  {
   "cell_type": "code",
   "execution_count": null,
   "metadata": {},
   "outputs": [],
   "source": [
    "# Votre code ici\n"
   ]
  }
 ],
 "metadata": {
  "kernelspec": {
   "display_name": "Python 3",
   "language": "python",
   "name": "python3"
  },
  "language_info": {
   "codemirror_mode": {
    "name": "ipython",
    "version": 3
   },
   "file_extension": ".py",
   "mimetype": "text/x-python",
   "name": "python",
   "nbconvert_exporter": "python",
   "pygments_lexer": "ipython3",
   "version": "3.7.6"
  }
 },
 "nbformat": 4,
 "nbformat_minor": 4
}
