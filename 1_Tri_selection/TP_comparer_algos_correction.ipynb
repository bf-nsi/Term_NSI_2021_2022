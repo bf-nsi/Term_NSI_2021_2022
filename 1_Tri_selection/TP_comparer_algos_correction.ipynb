{
 "cells": [
  {
   "cell_type": "markdown",
   "metadata": {
    "colab_type": "text",
    "id": "qAHZ3d1ICy1I"
   },
   "source": [
    "---\n",
    "# **Séquence 16 : Comparer des algorithmes**\n",
    "\n",
    "## TP : Comparer des algorithmes de recherche\n",
    "---\n",
    "\n"
   ]
  },
  {
   "cell_type": "markdown",
   "metadata": {
    "colab_type": "text",
    "id": "Q41HPwamPDXk"
   },
   "source": [
    "Dans cette activité, nous allons comparer deux méthodes pour effectuer une recherche dans un tableau trié en terme de coût, c'est à dire, en nous interessant au nombre d'opérations effectuées par la machine lors d'une execution."
   ]
  },
  {
   "cell_type": "markdown",
   "metadata": {
    "colab_type": "text",
    "id": "8Ek23fLYoigQ"
   },
   "source": [
    "### **Exercice 1**  \n",
    "Nous aurons besoin d'un tableau trié pour tester les fonctions que vous allez programmer.\n",
    "Dans la cellule de code ci-dessous, nous allons définir un tableau *Tab* (sous forme de liste contenant 100 éléments entiers tirés aléatoirement).\n",
    "\n",
    "N'hésitez pas à le faire en compréhension.\n"
   ]
  },
  {
   "cell_type": "code",
   "execution_count": 1,
   "metadata": {
    "colab": {},
    "colab_type": "code",
    "id": "UZ7xYTDZpP0p"
   },
   "outputs": [],
   "source": [
    "from random import *\n",
    "## Entrer ci-dessous le code Python pour répondre à la question précédente, puis executer le.\n",
    "Tab=[randint(1,100) for i in range(0,100)]\n",
    "## Tri du tableau en ordre croissant \n",
    "Tab.sort()\n"
   ]
  },
  {
   "cell_type": "markdown",
   "metadata": {
    "colab_type": "text",
    "id": "4PCunYLTFMsM"
   },
   "source": [
    "Vérifions le contenu de Tab en executant le code ci-dessous:"
   ]
  },
  {
   "cell_type": "code",
   "execution_count": 2,
   "metadata": {
    "colab": {},
    "colab_type": "code",
    "id": "ebey6dfxEnwB"
   },
   "outputs": [
    {
     "name": "stdout",
     "output_type": "stream",
     "text": [
      "[2, 5, 8, 9, 9, 9, 10, 11, 13, 15, 16, 17, 18, 18, 19, 20, 21, 21, 22, 23, 23, 25, 25, 26, 27, 28, 28, 29, 29, 29, 31, 31, 32, 33, 33, 36, 37, 39, 41, 42, 44, 45, 46, 47, 47, 49, 50, 50, 51, 53, 56, 58, 59, 60, 61, 62, 62, 66, 66, 66, 71, 71, 71, 72, 72, 73, 73, 74, 74, 77, 78, 79, 79, 80, 80, 81, 81, 81, 82, 82, 83, 83, 85, 86, 87, 88, 88, 89, 89, 92, 92, 94, 95, 96, 96, 96, 97, 98, 98, 98]\n"
     ]
    }
   ],
   "source": [
    "print(Tab)"
   ]
  },
  {
   "cell_type": "markdown",
   "metadata": {
    "colab_type": "text",
    "id": "qe2O4mHHZUdp"
   },
   "source": [
    "## **1) Mesurer le temps d'éxécution d'une portion de code avec Python.** \n",
    "\n",
    "Nous aurons besoin également dans cette activité de comparer la \"rapidité\" d'execution des algorithmes étudiés.  \n",
    "La librairie `timeit` permet de mesurer le temps d'exécution d'un code Python. Pour cela, le code doit être répété un grand nombre de fois pour avoir une mesure pertinente. C'est ce que fait la librairie timeit: répéter le code pour mesurer son temps d'exécution\n",
    "\n",
    "Le premier argument est le fragment de code dont on mesure le temps.\n",
    "Le deuxième argument : `setup` est un fragment de code exécuté une seule fois.\n",
    "`t.repeat(repeat=1000,number=1)` est la répétition du code spécifié dans `Timer`, le code est éxécuté repeat (ici 1000) fois.\n",
    "\n",
    "Nous prendrons la valeur minimale des temps obtenus.\n",
    "Vous pouvez observer, executer et completer les exemples suivants. "
   ]
  },
  {
   "cell_type": "code",
   "execution_count": 3,
   "metadata": {
    "colab": {},
    "colab_type": "code",
    "id": "o3tDrvrjZ2p3"
   },
   "outputs": [
    {
     "data": {
      "text/plain": [
       "1.999999987845058e-07"
      ]
     },
     "execution_count": 3,
     "metadata": {},
     "output_type": "execute_result"
    }
   ],
   "source": [
    "import timeit \n",
    "t=timeit.Timer('sin(1.2)',setup='from math import sin')\n",
    "#répète sin(1.2) 1000 fois et prend le plus petit temps d'execution\n",
    "min(t.repeat(repeat=1000,number=1)) \n"
   ]
  },
  {
   "cell_type": "code",
   "execution_count": 4,
   "metadata": {
    "colab": {},
    "colab_type": "code",
    "id": "jTIX-z4wZ-Oa"
   },
   "outputs": [
    {
     "data": {
      "text/plain": [
       "9.999999761589606e-08"
      ]
     },
     "execution_count": 4,
     "metadata": {},
     "output_type": "execute_result"
    }
   ],
   "source": [
    "# On peut vérifier que passer à 10000 exécution ne change pas *beaucoup* le temps d'exécution moyen.\n",
    "t=timeit.Timer('sin(1.2)',setup='from math import sin')\n",
    "#CODE A COMPLETER\n",
    "min(t.repeat(repeat=10000,number=1)) \n",
    "#répète sin(1.2) 10000 fois et prend le plus petit temps d'execution"
   ]
  },
  {
   "cell_type": "markdown",
   "metadata": {
    "colab_type": "text",
    "id": "mQi_pTkVrFEf"
   },
   "source": [
    "## 2) Recherche **séquentielle** dans un tableau trié\n",
    "L'algorithme présenté ci-dessous en langage naturel permet, de manière naïve, de rechercher un élément dans un tableau. \n",
    "\n",
    "**fonction recherche**  *(tableau T,entier k) :*   \n",
    ">*Données : T est un tableau trié d'entiers, k un nombre entier*  \n",
    ">*Resultat : Le premier indice i où se trouve l'élement k, si k est dans le tableau, -1 sinon.*  \n",
    ">$i=0$   \n",
    ">$l=longueur(T)$  \n",
    ">**Tant que** $(i\\leqslant l-1)$ **et** $T[i]\\neq k$ **faire** :  \n",
    ">> $i=i+1$  \n",
    "\n",
    "> **si** $i<l$ **alors** retourner i **sinon** retourner -1\n",
    "  \n",
    "\n",
    "\n",
    "\n",
    "\n",
    "\n",
    "\n",
    "\n"
   ]
  },
  {
   "cell_type": "markdown",
   "metadata": {
    "colab_type": "text",
    "id": "LRY7PXuWGahy"
   },
   "source": [
    "### **Exercice 3 :** \n",
    "1.a) Traduisez cet algorithme en langage Python en codant la fonction *recherche* dont l'en-tête est déjà proposée ci-dessous (la fonction retournera -1 si l'élément est absent, le plus petit indice où se trouve l'élément recherché sinon).\n",
    "\n",
    "\n"
   ]
  },
  {
   "cell_type": "code",
   "execution_count": 5,
   "metadata": {
    "colab": {},
    "colab_type": "code",
    "id": "Co7FiwRLGVmY"
   },
   "outputs": [],
   "source": [
    "def recherche(T:list,k:int)->int:\n",
    "  i=0\n",
    "  l=len(T)\n",
    "  while (i<l) and (T[i]!=k):\n",
    "    i=i+1\n",
    "  if i<l :\n",
    "    return i\n",
    "  else :\n",
    "    return -1"
   ]
  },
  {
   "cell_type": "markdown",
   "metadata": {
    "colab_type": "text",
    "id": "oc78h6_YH3K1"
   },
   "source": [
    "1.b) Tester votre fonction ci-dessous (un premier test est proposé)"
   ]
  },
  {
   "cell_type": "code",
   "execution_count": 6,
   "metadata": {
    "colab": {},
    "colab_type": "code",
    "id": "Khx3okSrJucK"
   },
   "outputs": [
    {
     "name": "stdout",
     "output_type": "stream",
     "text": [
      "-1\n",
      "6\n",
      "92\n"
     ]
    }
   ],
   "source": [
    "print(recherche(Tab,101)) # Le résultat doit être -1\n",
    "## Ajouter des tests ci-dessous et éxécuter les.\n",
    "print(recherche(Tab,10))\n",
    "print(recherche(Tab,95))"
   ]
  },
  {
   "cell_type": "markdown",
   "metadata": {
    "colab_type": "text",
    "id": "aaaQAY8mKfl0"
   },
   "source": [
    "1.c) Le code ci-dessous permet de mesurer le temps d'execution de la fonction *recherche* appliquée au tableau *tab* pour la valeur 101. Cette valeur est nécessairement absente du tableau, et impose donc une vérification dans l'ensemble du tableau, soit une éxecution dans **dans le pire des cas**.\n",
    "\n",
    "Nous prendrons la valeur minimale des temps obtenus.   \n",
    "**Quelle est le temps d'execution minimal observé?**\n"
   ]
  },
  {
   "cell_type": "code",
   "execution_count": 7,
   "metadata": {
    "colab": {},
    "colab_type": "code",
    "id": "urS0Vv9JcmIw"
   },
   "outputs": [
    {
     "data": {
      "text/plain": [
       "5.699999995556482e-06"
      ]
     },
     "execution_count": 7,
     "metadata": {},
     "output_type": "execute_result"
    }
   ],
   "source": [
    "import timeit\n",
    "\n",
    "test1 = timeit.Timer(\"recherche(Tab,101)\", \"from __main__ import recherche,Tab\")\n",
    "min(test1.repeat(repeat=10000,number=1)) "
   ]
  },
  {
   "cell_type": "markdown",
   "metadata": {
    "colab_type": "text",
    "id": "nWt6E2lwjWMx"
   },
   "source": [
    "## 3) Recherche **dichotomique** dans un tableau trié\n",
    "L'algorithme présenté ci-dessous en langage naturel permet d'effectuer la recherche d'élément, mais en procédant cette fois à une **dichotomie**.  \n",
    "L'algorithme fonctionne sur le principe suivant :\n",
    "\n",
    "* Trouver la position la plus centrale du tableau (si le tableau est vide, sortir).\n",
    "* Comparer la valeur de cette case à l'élément recherché.\n",
    "* Si la valeur est égale à l'élément, alors retourner la position, sinon reprendre la procédure dans la moitié de tableau pertinente.\n",
    "\n",
    "On peut toujours se ramener à une moitié de tableau sur un tableau trié en ordre croissant. Si la valeur de la case est plus petite que l'élément, on continuera sur la moitié droite, c'est-à-dire sur la partie du tableau qui contient des nombres plus grands que la valeur de la case. Sinon, on continuera sur la moitié gauche.   \n",
    "**Exemple :** Dans le tableau présentée ci-dessous, on cherche la valeur 4.\n",
    "\n",
    "![Image non trouvée](data:image/png;base64,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)\n",
    "\n",
    "**fonction recherche_dicho**  *(tableau T,entier val) :*   \n",
    "* **Données** : *T est un tableau trié d'entiers, val un nombre entier*  \n",
    "* **Resultat** : *Le premier indice i où se trouve l'élement val, si val est dans le tableau, -1 sinon.*  \n",
    "\n",
    "\n",
    ">$trouve = faux$  \n",
    ">$l=longueur(T)$  \n",
    ">$i=0$  \n",
    ">$debut=0$  \n",
    ">$fin=l-1$  \n",
    ">**Tant que** $non(trouve)$ **et** $début \\leqslant fin$ :  \n",
    ">>$mil=PartieEntiere((début + fin)/2)$  \n",
    ">>**si** $t[mil]=val$ **alors** \n",
    ">>>$trouve=vrai$   \n",
    "\n",
    ">>**sinon**:\n",
    ">>>**si** $val > t[mil]$ **alors**\n",
    ">>>>$début=mil+1$\n",
    "\n",
    ">>>**sinon**:\n",
    ">>>>$fin=mil-1$   \n",
    "\n",
    "> **Si** $trouve = vrai$ **alors**:  \n",
    ">>retourner $mil$\n",
    "\n",
    ">**Sinon**:\n",
    ">>retourner $-1$\n",
    "\n",
    "\n",
    "\n",
    "\n",
    "\n",
    "\n",
    "\n"
   ]
  },
  {
   "cell_type": "markdown",
   "metadata": {
    "colab_type": "text",
    "id": "aaAkaUJ596fh"
   },
   "source": [
    "### **Exercice 3 :**   \n",
    "3.a) Traduire cet algorithme en langage Python."
   ]
  },
  {
   "cell_type": "code",
   "execution_count": 8,
   "metadata": {
    "colab": {},
    "colab_type": "code",
    "id": "m7dKbBgOu5MC"
   },
   "outputs": [],
   "source": [
    "from math import floor  ## Partie entière d'un nombre\n",
    "\n",
    "\n",
    "\n",
    "def recherche_dicho(T:list, val:int)->int:\n",
    "  trouve=False\n",
    "  l=len(T)\n",
    "  i=0\n",
    "  debut=0\n",
    "  fin=l-1\n",
    "  while (not(trouve)) and (debut<=fin):\n",
    "    mil=floor((debut+fin)/2)\n",
    "    if T[mil]==val:\n",
    "      trouve=True\n",
    "    else:\n",
    "      if val>T[mil]:\n",
    "        debut=mil+1\n",
    "      else:\n",
    "        fin=mil-1\n",
    "  if trouve :\n",
    "    return mil\n",
    "  else :\n",
    "    return -1\n",
    "\n"
   ]
  },
  {
   "cell_type": "markdown",
   "metadata": {
    "colab_type": "text",
    "id": "pHihgXeUwy67"
   },
   "source": [
    "3.b) Effectuer quelques tests ci-dessous."
   ]
  },
  {
   "cell_type": "code",
   "execution_count": 9,
   "metadata": {
    "colab": {},
    "colab_type": "code",
    "id": "QULfhNuVw-dT"
   },
   "outputs": [
    {
     "name": "stdout",
     "output_type": "stream",
     "text": [
      "-1\n",
      "6\n",
      "1\n"
     ]
    }
   ],
   "source": [
    "print(recherche_dicho(Tab,101)) # Le résultat doit être -1\n",
    "## Ajouter des tests ci-dessous et éxécuter les.\n",
    "print(recherche_dicho(Tab,10))\n",
    "print(recherche_dicho(Tab,5))"
   ]
  },
  {
   "cell_type": "markdown",
   "metadata": {
    "colab_type": "text",
    "id": "85pIi4m4y71_"
   },
   "source": [
    "3.c) En vous inspirant du code de la question 2c, mesurez le temps minimal parmi 10000 executions de l'appel *recherche_dicho(Tab,101)*.  \n",
    "Comparer votre résultat à celui obtenu à la question 2c).  \n",
    "**Que remarque-t-on?**\n",
    "\n",
    "\n"
   ]
  },
  {
   "cell_type": "code",
   "execution_count": 10,
   "metadata": {
    "colab": {},
    "colab_type": "code",
    "id": "z-GigVNkBqmF"
   },
   "outputs": [
    {
     "data": {
      "text/plain": [
       "2.199999997287705e-06"
      ]
     },
     "execution_count": 10,
     "metadata": {},
     "output_type": "execute_result"
    }
   ],
   "source": [
    "import timeit\n",
    "\n",
    "test2 = timeit.Timer(\"recherche_dicho(Tab,101)\", \"from __main__ import recherche_dicho,Tab\")\n",
    "min(test2.repeat(repeat=10000,number=1)) "
   ]
  },
  {
   "cell_type": "markdown",
   "metadata": {
    "colab_type": "text",
    "id": "ICy95xq1GpAy"
   },
   "source": [
    "## **3) Recherche dans une matrice** \n",
    "On souhaite maintenant rechercher un élément dans une matrice carrée (tableau de tableau comportant autant de lignes que de colonnes). On pourra utiliser les fonctions de recherche dans un tableau codées précedemment.\n",
    "\n"
   ]
  },
  {
   "cell_type": "markdown",
   "metadata": {
    "colab_type": "text",
    "id": "2H6qFPHoHWLV"
   },
   "source": [
    "### **Exercice 4**\n",
    "4.a) Générer aléatoirement dans un premier temps une matrice M de test comportant des nombres entiers compris entre 0 et 1000, de dimension 100*100."
   ]
  },
  {
   "cell_type": "code",
   "execution_count": 11,
   "metadata": {
    "colab": {},
    "colab_type": "code",
    "id": "ev87bxYEIYUi"
   },
   "outputs": [],
   "source": [
    "from random import *\n",
    "## Entrer ci-dessous le code Python pour répondre à la question précédente, puis executer le.\n",
    "M=[[randint(0,1000) for i in range(0,100)] for j in range(0,100)]\n",
    "\n"
   ]
  },
  {
   "cell_type": "markdown",
   "metadata": {
    "colab_type": "text",
    "id": "mwK74FplI-d9"
   },
   "source": [
    "4.b) Coder ci-dessous une fonction de recherche d'une valeur dans la matrice qui renvoie en résultat un tuple composé du numéro de ligne et de colonne de la première occurence de cette valeur si elle a été trouvée dans la matrice, le tuple *(-1,-1)* sinon.\n"
   ]
  },
  {
   "cell_type": "code",
   "execution_count": 12,
   "metadata": {
    "colab": {},
    "colab_type": "code",
    "id": "YDDk9CMJKFNm"
   },
   "outputs": [],
   "source": [
    "def recherche_matrice(M:list,val:int)->tuple:\n",
    "  i=0\n",
    "  trouve=False\n",
    "  while not(trouve) and (i<len(M)):\n",
    "    ligne_courante=M[i]\n",
    "    j=0\n",
    "    while not(trouve) and (j<len(ligne_courante)):\n",
    "      if ligne_courante[j]==val:\n",
    "        trouve=True\n",
    "      else :\n",
    "        j=j+1\n",
    "    if not(trouve):\n",
    "      i=i+1\n",
    "  if trouve:\n",
    "    return i,j\n",
    "  else:\n",
    "    return -1,-1\n"
   ]
  },
  {
   "cell_type": "markdown",
   "metadata": {
    "colab_type": "text",
    "id": "IZYRqXN7S1-G"
   },
   "source": [
    "4.c) Effectuer quelques tests ci-dessous."
   ]
  },
  {
   "cell_type": "code",
   "execution_count": 13,
   "metadata": {
    "colab": {},
    "colab_type": "code",
    "id": "AIm2wjPlS6mh"
   },
   "outputs": [
    {
     "name": "stdout",
     "output_type": "stream",
     "text": [
      "(-1, -1)\n",
      "(56, 38)\n",
      "(3, 52)\n"
     ]
    }
   ],
   "source": [
    "print(recherche_matrice(M,1001)) # Le résultat doit être (-1,-1)\n",
    "## Ajouter des tests ci-dessous et éxécuter les.\n",
    "print(recherche_matrice(M,10))\n",
    "print(recherche_matrice(M,5))"
   ]
  },
  {
   "cell_type": "markdown",
   "metadata": {
    "colab_type": "text",
    "id": "nqRLxUZVTY7F"
   },
   "source": [
    "4.d) En vous inspirant du code de la question 2c, mesurez le temps minimal parmi 10000 executions de l'appel *recherche_matrice(M,1001)*.  \n",
    "Comparer votre résultat à ceux obtenus précédemment.  \n",
    "**Que remarque-t-on?**\n",
    "\n",
    "\n"
   ]
  },
  {
   "cell_type": "code",
   "execution_count": null,
   "metadata": {
    "colab": {},
    "colab_type": "code",
    "id": "gi62N1L-SCf3"
   },
   "outputs": [],
   "source": [
    "import timeit\n",
    "\n",
    "test3 = timeit.Timer(\"recherche_matrice(M,1001)\", \"from __main__ import recherche_matrice,M\")\n",
    "print(min(test3.repeat(repeat=10000,number=1)))"
   ]
  }
 ],
 "metadata": {
  "colab": {
   "collapsed_sections": [],
   "name": "TP_comparer_algos_correction.ipynb",
   "provenance": [],
   "toc_visible": true
  },
  "kernelspec": {
   "display_name": "Python 3",
   "language": "python",
   "name": "python3"
  },
  "language_info": {
   "codemirror_mode": {
    "name": "ipython",
    "version": 3
   },
   "file_extension": ".py",
   "mimetype": "text/x-python",
   "name": "python",
   "nbconvert_exporter": "python",
   "pygments_lexer": "ipython3",
   "version": "3.7.10"
  }
 },
 "nbformat": 4,
 "nbformat_minor": 1
}
