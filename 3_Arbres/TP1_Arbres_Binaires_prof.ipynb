{
 "cells": [
  {
   "cell_type": "markdown",
   "metadata": {},
   "source": [
    "---\n",
    "# Séquence 3 - TP1\n",
    "# Implémentation des arbres binaires avec une structure linéaire\n",
    "---"
   ]
  },
  {
   "cell_type": "markdown",
   "metadata": {},
   "source": [
    "\n",
    "La possibilité d'imbriquer les tuples ou les listes permet de représenter assez simplement des arbres binaires.\n",
    "Nous retiendrons ainsi la structure suivante :\n",
    "* Un arbre vide est représenté par une liste vide\n",
    "* Chaque noeud est une liste de 3 valeurs contenant dans l'ordre :\n",
    "    * l'étiquette du noeud\n",
    "    * le sous-arbre gauche (une liste éventuellement vide)\n",
    "    * le sous-arbre droit (une liste eventuellement vide)\n",
    "\n",
    "**Remarque :** Avec cette structure, une feuille aura le format $[etiquette,[],[]]$\n",
    "    "
   ]
  },
  {
   "cell_type": "markdown",
   "metadata": {},
   "source": [
    "1) En respectant la définition présentée ci-dessus, codé l'arbre binaire $A$ suivant.\n"
   ]
  },
  {
   "cell_type": "code",
   "execution_count": 9,
   "metadata": {},
   "outputs": [],
   "source": [
    "## Définition de l'arbre\n",
    "A=[\"T\",[\"Y\",[\"P\",[],[]],[]],[\"O\",[\"H\",[],[]],[\"N\",[],[]]]]"
   ]
  },
  {
   "cell_type": "markdown",
   "metadata": {},
   "source": [
    "2) Définir les fonctions $gauche(A)$ et $droit(A)$ qui renvoient respectivement les sous-arbres gauche et droit de l'arbre $A$."
   ]
  },
  {
   "cell_type": "code",
   "execution_count": 10,
   "metadata": {},
   "outputs": [],
   "source": [
    "def gauche(A:list)->list:\n",
    "    \"\"\"\n",
    "    Renvoie le sous-arbre gauche de l'arbre A\n",
    "    \"\"\"\n",
    "    return A[1]\n",
    "    \n",
    "def droit(A:list)->list:\n",
    "    \"\"\"\n",
    "    Renvoie le sous-arbre droit de l'arbre A\n",
    "    \"\"\"\n",
    "    return A[2]"
   ]
  },
  {
   "cell_type": "markdown",
   "metadata": {},
   "source": [
    "La fonction $view(A)$ codée ci-dessous permet de visualiser l'arbre de manière lisible. Faites afficher l'arbre $A$."
   ]
  },
  {
   "cell_type": "code",
   "execution_count": 11,
   "metadata": {},
   "outputs": [
    {
     "name": "stdout",
     "output_type": "stream",
     "text": [
      "        / N\n",
      "    / O\n",
      "        \\ H\n",
      " T\n",
      "    \\ Y\n",
      "        \\ P\n"
     ]
    }
   ],
   "source": [
    "def displayArbre(A:list,n,car:str):\n",
    "    if A!=[]:\n",
    "        displayArbre(droit(A),n+4,'/')\n",
    "        print(n*\" \"+car,end=\" \")\n",
    "        print(A[0])\n",
    "        displayArbre(gauche(A),n+4,'\\\\')\n",
    "\n",
    "def view(A:list):\n",
    "    displayArbre(A,0,\"\")\n",
    "\n",
    "view(A)"
   ]
  },
  {
   "cell_type": "markdown",
   "metadata": {},
   "source": [
    "3) a) Programmer la fonction $estArbreBinaire(A)$ qui renvoie $True$ si $A$ respecte la définition de la structure de donnée arbre telle qu'elle est présentée ci-dessus.  \n",
    "    \n",
    "**Remarque :** Cette fonction permettra de vérifier en précondition le type des paramètres passés aux fonctions que nous allons programmer dans cette partie."
   ]
  },
  {
   "cell_type": "code",
   "execution_count": 12,
   "metadata": {},
   "outputs": [],
   "source": [
    "def estArbreBinaire(A:list)->bool:\n",
    "    \"\"\"\n",
    "    Renvoie True si la liste A correspond à la définition d'un arbre binaire.\n",
    "    \"\"\"\n",
    "    if A==[]:\n",
    "        return True\n",
    "    else :\n",
    "        if len(A)==3:\n",
    "            return estArbreBinaire(gauche(A)) and estArbreBinaire(droit(A))\n",
    "        else :\n",
    "            return False"
   ]
  },
  {
   "cell_type": "markdown",
   "metadata": {},
   "source": [
    "b) Programmer une fonction $estFeuille(A)$ qui renvoie $True$ si $A$ est une feuille et une fonction $estVide(A)$ qui renvoie $True$ si A est un arbre vide. Tester vos fonctions sur des exemples simples."
   ]
  },
  {
   "cell_type": "code",
   "execution_count": 13,
   "metadata": {},
   "outputs": [
    {
     "name": "stdout",
     "output_type": "stream",
     "text": [
      "True\n",
      "False\n",
      "True\n"
     ]
    }
   ],
   "source": [
    "def estFeuille(A:list)->bool:\n",
    "    \"\"\"\n",
    "    Renvoie True si A est une feuille. \n",
    "    \"\"\"\n",
    "    if A[0]!=[] and A[1]==[] and A[2]==[]:\n",
    "        return True\n",
    "    else :\n",
    "        return False\n",
    "\n",
    "def estVide(A:list)->bool:\n",
    "    \"\"\"\n",
    "    Renvoie $True$ si A est un arbre vide\n",
    "    \"\"\"\n",
    "    if A==[]:\n",
    "        return True\n",
    "    else:\n",
    "        return False\n",
    "\n",
    "print(estFeuille([\"B\",[],[]]))\n",
    "print(estFeuille(A))\n",
    "print(estVide([]))\n",
    "                  "
   ]
  },
  {
   "cell_type": "markdown",
   "metadata": {},
   "source": [
    "c) Ecrire une fonction $racine(A)$ qui renvoie la valeur de la racine de l'arbre $A$."
   ]
  },
  {
   "cell_type": "code",
   "execution_count": 14,
   "metadata": {},
   "outputs": [
    {
     "name": "stdout",
     "output_type": "stream",
     "text": [
      "T\n"
     ]
    }
   ],
   "source": [
    "def racine(A:list):\n",
    "    \"\"\"\n",
    "    Renvoie la valeur de la racine de l'arbre \n",
    "    \"\"\"\n",
    "    return A[0]\n",
    "\n",
    "print(racine(A))\n",
    "    "
   ]
  },
  {
   "cell_type": "markdown",
   "metadata": {},
   "source": [
    "4) a) Coder une fonction $creerArbre(r,SAG,SAD)$ qui renvoie l'arbre ayant pour racine $r$, $SAG$ comme sous-arbre gauche et $SAD$ comme sous arbre droit."
   ]
  },
  {
   "cell_type": "code",
   "execution_count": 15,
   "metadata": {},
   "outputs": [],
   "source": [
    "def creerArbre(r:str,SAG:list,SAD:list)->list:\n",
    "    \"\"\"\n",
    "    Renvoie l'arbre de racine r de sous-arbre gauche SAG et de sous-arbre-droit SAD\n",
    "    \"\"\"\n",
    "    arbre=[]\n",
    "    arbre.append(r)\n",
    "    arbre.append(SAG)\n",
    "    arbre.append(SAD)\n",
    "    return arbre"
   ]
  },
  {
   "cell_type": "markdown",
   "metadata": {},
   "source": [
    "b) Créer un arbre $B$ de racine $R$, de sous-arbre gauche vide et de sous-arbre droit $A$"
   ]
  },
  {
   "cell_type": "code",
   "execution_count": 16,
   "metadata": {},
   "outputs": [
    {
     "name": "stdout",
     "output_type": "stream",
     "text": [
      "['R', [], ['T', ['Y', ['P', [], []], []], ['O', ['H', [], []], ['N', [], []]]]]\n"
     ]
    }
   ],
   "source": [
    "B=creerArbre(\"R\",[],A)\n",
    "print(B)"
   ]
  },
  {
   "cell_type": "markdown",
   "metadata": {},
   "source": [
    "5) Coder ci-dessous la fonction $taille(A)$ qui renvoie la taille d'un arbre binaire A.    On s'inspirera de la définition récursive vue dans le cours."
   ]
  },
  {
   "cell_type": "code",
   "execution_count": 17,
   "metadata": {},
   "outputs": [
    {
     "name": "stdout",
     "output_type": "stream",
     "text": [
      "6\n"
     ]
    }
   ],
   "source": [
    "def taille(A:list)->int:\n",
    "    \"\"\"\n",
    "    Renvoie la taille de l'arbre A\n",
    "    \"\"\"\n",
    "    if estVide(A) :\n",
    "        return 0\n",
    "    else :\n",
    "        return 1+taille(gauche(A))+taille(droit(A))\n",
    "\n",
    "print(taille(A))"
   ]
  },
  {
   "cell_type": "markdown",
   "metadata": {},
   "source": [
    "6) Coder ci-dessous la fonction $hauteur(A)$ qui renvoie la hauteur d'un arbre binaire A.    On s'inspirera de la définition récursive vue dans le cours."
   ]
  },
  {
   "cell_type": "code",
   "execution_count": 18,
   "metadata": {
    "scrolled": true
   },
   "outputs": [
    {
     "name": "stdout",
     "output_type": "stream",
     "text": [
      "2\n"
     ]
    }
   ],
   "source": [
    "\n",
    "def hauteur(A:list)->int:\n",
    "    \"\"\"\n",
    "    Renvoie la hauteur de l'arbre A\n",
    "    \"\"\"\n",
    "    if estVide(A):\n",
    "        return -1\n",
    "    else :\n",
    "        return 1+max(hauteur(gauche(A)),hauteur(droit(A)))\n",
    "\n",
    "print(hauteur(A))\n",
    "        "
   ]
  },
  {
   "cell_type": "markdown",
   "metadata": {},
   "source": [
    "7) a) Coder ci-dessous la fonction $estFiliforme(A)$ qui renvoie $True$ si l'arbre binaire A est filiforme."
   ]
  },
  {
   "cell_type": "code",
   "execution_count": 19,
   "metadata": {},
   "outputs": [],
   "source": [
    "def estFiliforme(A:list)->int:\n",
    "    \"\"\"\n",
    "    Renvoie True si l'arbre binaire A est filiforme.\n",
    "    \"\"\"\n",
    "    if estVide(A):\n",
    "        return True\n",
    "    elif estVide(gauche(A)) :\n",
    "        return estFiliforme(droit(A))\n",
    "    elif estVide(droit(A)):\n",
    "        return estFiliforme(gauche(A))\n",
    "    else :\n",
    "        return False\n",
    "        "
   ]
  },
  {
   "cell_type": "markdown",
   "metadata": {},
   "source": [
    "b) Creer un arbre filiforme $fili$ (en alternant SAG et SAD vides) et tester votre fonction."
   ]
  },
  {
   "cell_type": "code",
   "execution_count": 20,
   "metadata": {},
   "outputs": [
    {
     "name": "stdout",
     "output_type": "stream",
     "text": [
      "True\n",
      "False\n"
     ]
    }
   ],
   "source": [
    "fili=[\"A\",[\"B\",[],[\"C\",[\"D\",[],[]],[]]],[]]\n",
    "print(estFiliforme(fili))\n",
    "print(estFiliforme(A))"
   ]
  },
  {
   "cell_type": "markdown",
   "metadata": {},
   "source": [
    "8) Coder ci-dessous la fonction $estEquilibre(A)$ qui renvoie $True$ si l'arbre binaire A est équilibré. Vous pourrez tester votre fonction sur les arbres A et B crées précedemment."
   ]
  },
  {
   "cell_type": "code",
   "execution_count": 25,
   "metadata": {},
   "outputs": [
    {
     "name": "stdout",
     "output_type": "stream",
     "text": [
      "True\n",
      "False\n"
     ]
    }
   ],
   "source": [
    "def estEquilibre(A:list)->bool:\n",
    "    \"\"\"\n",
    "    Renvoie True si l'arbre binaire A est équilibré.\n",
    "    \"\"\"\n",
    "    if estVide(A):\n",
    "        return True\n",
    "    else :\n",
    "        if abs(hauteur(gauche(A))-hauteur(droit(A)))<=1 :\n",
    "            return estEquilibre(gauche(A)) and estEquilibre(droit(A))\n",
    "        else:\n",
    "            return False\n",
    "        \n",
    "print(estEquilibre(A))\n",
    "print(estEquilibre(B))"
   ]
  }
 ],
 "metadata": {
  "kernelspec": {
   "display_name": "Python 3",
   "language": "python",
   "name": "python3"
  },
  "language_info": {
   "codemirror_mode": {
    "name": "ipython",
    "version": 3
   },
   "file_extension": ".py",
   "mimetype": "text/x-python",
   "name": "python",
   "nbconvert_exporter": "python",
   "pygments_lexer": "ipython3",
   "version": "3.7.6"
  }
 },
 "nbformat": 4,
 "nbformat_minor": 4
}
