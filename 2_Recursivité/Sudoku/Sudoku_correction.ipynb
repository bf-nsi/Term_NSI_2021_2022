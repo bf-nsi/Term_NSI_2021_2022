{
 "cells": [
  {
   "cell_type": "markdown",
   "metadata": {},
   "source": [
    "----\n",
    "# **Mini-projet : Grille de Sudoku - Correction**\n",
    "----"
   ]
  },
  {
   "cell_type": "markdown",
   "metadata": {},
   "source": [
    "Un Sudoku classique est une grille de 9 lignes et 9 colonnes, donc composée de 9 blocs distincts de 3 lignes et 3 colonnes.      \n",
    "Remplir une grille de Sudoku consiste à utiliser tous les chiffres de 1 à 9 pour chacun des 9 blocs de sorte que chaque ligne et chaque colonne de la grille totale ne comporte aucun chiffre en double.  \n",
    "L'objectif de ce mini-projet est d'obtenir le remplissage de la grille ci-dessous.\n",
    "![Grille](./grille.jpg \"grille sudoku\")"
   ]
  },
  {
   "cell_type": "markdown",
   "metadata": {},
   "source": [
    "## 1) Modélisation   \n",
    "Dans ce projet, on représentera une telle grille par une liste S de 9 listes à 9 éléments, chacune des listes représentant une ligne.  "
   ]
  },
  {
   "cell_type": "markdown",
   "metadata": {},
   "source": [
    "### Exercice 1\n",
    "Compléter dans la cellule de code ci-dessous la définition de la variable $S=[[0,1,0,0,7,8,0,0,0],...]$"
   ]
  },
  {
   "cell_type": "code",
   "execution_count": null,
   "metadata": {},
   "outputs": [],
   "source": [
    "S=[ [0,1,0,0,7,8,0,0,0],\n",
    "    [0,8,0,0,4,0,9,0,0],\n",
    "    [0,0,5,6,0,0,0,1,0],\n",
    "    [1,0,0,0,6,0,0,0,5],\n",
    "    [0,4,0,9,1,5,0,7,2],\n",
    "    [0,6,7,0,8,0,4,0,0],\n",
    "    [0,0,0,3,0,0,1,0,0],\n",
    "    [0,7,0,8,9,0,0,2,3],\n",
    "    [0,0,0,0,0,4,0,0,0]\n",
    "]\n",
    "\n",
    "def printSudoku(S):\n",
    "    \"\"\"\n",
    "    Apperçu lisible de la grille de Sudoku S\n",
    "    \"\"\"\n",
    "    for i in range(0,9):\n",
    "        print(S[i])\n",
    "\n",
    "printSudoku(S)"
   ]
  },
  {
   "cell_type": "markdown",
   "metadata": {},
   "source": [
    "## 2) Fonctions auxiliaires  \n",
    "Pour atteindre notre but, nous allons au préalable définir des fonctions auxiliaires qui nous seront utiles pour la résolution de la grille."
   ]
  },
  {
   "cell_type": "markdown",
   "metadata": {},
   "source": [
    "### Exercice 2\n",
    "Ecrire une fonction $ligne(S,i)$ qui retourne la liste des chiffres de 1 à 9 qui apparaissent à la ligne $i$.\n",
    "On devra avoir pour notre grille : \n",
    "\n",
    "    >>> ligne(S,0)\n",
    "    [1,7,8]\n"
   ]
  },
  {
   "cell_type": "code",
   "execution_count": null,
   "metadata": {},
   "outputs": [],
   "source": [
    "def ligne(S:list,i:int)->list:\n",
    "    \"\"\"\n",
    "    Retourne la liste des chiffres de 1 à 9 qui apparaissent à la ligne i.\n",
    "    Test : \n",
    "    >>> ligne(S,0)\n",
    "    [1,7,8]\n",
    "\n",
    "    \"\"\"\n",
    "    res=[]                         #Initialisation du resultat res\n",
    "    for j in range(0,9):           #Parcours séquentiel de S[i]\n",
    "        if S[i][j]!=0 :            \n",
    "            res.append(S[i][j])    #L'élément courant est ajouté au resultat si il est non nul\n",
    "    return res\n",
    "\n",
    "print(ligne(S,0))"
   ]
  },
  {
   "cell_type": "markdown",
   "metadata": {},
   "source": [
    "### Exercice 3\n",
    "Ecrire une fonction $colonne(S,j)$ qui retourne la liste des chiffres de 1 à 9 qui apparaissent dans la colonne $j$.\n",
    "On devra avoir pour notre grille : \n",
    "\n",
    "    >>> colonne(S,0)\n",
    "    [1]\n"
   ]
  },
  {
   "cell_type": "code",
   "execution_count": null,
   "metadata": {},
   "outputs": [],
   "source": [
    "def colonne(S:list,j:int)->list:\n",
    "    \"\"\"\n",
    "    Retourne la liste des chiffres de 1 à 9 qui apparaissent à la colonne j.\n",
    "    Test : \n",
    "    >>> colonne(S,0)\n",
    "    [1]\n",
    "\n",
    "    \"\"\"\n",
    "    res=[]                         #Initialisation du resultat res\n",
    "    for i in range(0,9):           #Parcours séquentiel des éléments d'indice j de chaque liste\n",
    "        if S[i][j]!=0 :            \n",
    "            res.append(S[i][j])    #L'élément courant est ajouté au resultat si il est non nul\n",
    "    return res\n",
    "\n",
    "print(colonne(S,0))"
   ]
  },
  {
   "cell_type": "markdown",
   "metadata": {},
   "source": [
    "### Exercice 4\n",
    "Ecrire une fonction $bloc(S,i,j)$ qui retourne la liste des chiffres de 1 à 9 qui apparaissent dans le bloc $3 \\times 3$ auquel appartient la case de la ligne $i$ et de la colonne $j$.   \n",
    "On devra avoir pour notre grille : \n",
    "\n",
    "    >>> bloc(S,3,4)\n",
    "    [6,9,1,5,8]\n"
   ]
  },
  {
   "cell_type": "code",
   "execution_count": null,
   "metadata": {},
   "outputs": [],
   "source": [
    "def bloc(S:list,i:int,j:int)->list:\n",
    "    \"\"\"\n",
    "    Retourne la liste des chiffres de 1 à 9 qui apparaissent dans le bloc 3×3 auquel appartient \n",
    "    la case de la ligne 𝑖 et de la colonne 𝑗\n",
    "    Test : \n",
    "    >>> bloc(S,3,4)\n",
    "    [6,9,1,5,8]\n",
    "    \"\"\"\n",
    "    res=[]                                  #Initialisation du resultat res\n",
    "    ligne=(i//3)*3                          #Indice de ligne la première case du bloc contenant la case (i,j)\n",
    "    colonne=(j//3)*3                        #Indice de colonne la première case du bloc contenant la case (i,j)\n",
    "    \n",
    "    for a in range(ligne,ligne+3):      # Exploration séquentielle du bloc dont la première case est (ligne,colonne)\n",
    "        for b in range(colonne,colonne+3):\n",
    "            if S[a][b]!=0:\n",
    "                res.append(S[a][b])         #L'élément courant est ajouté au resultat si il est non nul\n",
    "    return res\n",
    "\n",
    "print(bloc(S,3,4))"
   ]
  },
  {
   "cell_type": "markdown",
   "metadata": {},
   "source": [
    "### Exercice 5\n",
    "Ecrire une fonction $possibles(S,i,j)$ qui retourne la liste des chiffres de 1 à 9 que l'on peut écrire dans la case  de la ligne $i$ et de la colonne $j$ (en tenant compte des règles du jeu).   \n",
    "On devra avoir pour notre grille : \n",
    "\n",
    "    >>> possibles(S,0,0)\n",
    "    [2,3,4,6,9]"
   ]
  },
  {
   "cell_type": "code",
   "execution_count": null,
   "metadata": {},
   "outputs": [],
   "source": [
    "def possibles(S:list,i:int,j:int)->list:\n",
    "    \"\"\"\n",
    "    Retourne la liste des chiffres de 1 à 9 que l'on peut écrire dans la case  de la ligne i et de la colonne j \n",
    "    (en tenant compte des règles du jeu)\n",
    "    Test: \n",
    "    >>> possibles(S,0,0)\n",
    "    [2,3,4,6,9]\n",
    "    \"\"\"\n",
    "    res=[]                           #Initialisation du resultat res\n",
    "    for val in range(1,10):          # Exploration séquentielle des valeurs de 1 à 9\n",
    "        \n",
    "        # Si la valeur courante n'appartient ni à la ligne, ni à la colonne et ni au bloc, elle est alors \n",
    "        # ajoutée à la liste des possibles.\n",
    "        if (not(val in ligne(S,i))) and (not(val in colonne(S,j))) and (not(val in bloc(S,i,j))):\n",
    "            res.append(val)\n",
    "    return res\n",
    "\n",
    "print(possibles(S,0,0))"
   ]
  },
  {
   "cell_type": "markdown",
   "metadata": {},
   "source": [
    "### Exercice 6\n",
    "On complète la grille de la ligne 0 à la ligne 8, de la colonne 0 à la colonne 8.  \n",
    "Ecrire une fonction $suivante(i,j)$ qui reçoit en paramètre la ligne $i$ et la colonne $j$ et qui renvoie le tuple (ligne,colonne) de la case suivante.   \n",
    "On devra avoir : \n",
    "\n",
    "    >>> suivante(0,0), suivante(0,8), suivante(8,8)\n",
    "    (0,1),(1,0),(9,0)"
   ]
  },
  {
   "cell_type": "code",
   "execution_count": null,
   "metadata": {},
   "outputs": [],
   "source": [
    "def suivante(i:int,j:int)->tuple:\n",
    "    \"\"\"\n",
    "    Reçoit en paramètre la ligne i et la colonne j et qui renvoie le tuple (ligne,colonne) de la case suivante.\n",
    "    Test :\n",
    "    >>> suivante(0,0),suivante(0,8),suivante(8,8)\n",
    "    (0,1),(1,0),(9,0\n",
    "    \"\"\"\n",
    "    if j==8 : # Si j indique une fin de ligne, on renvoie les indices de la première case de la ligne suivante\n",
    "        j=0\n",
    "        i=i+1\n",
    "    else :    # Sinon, on renvoie la case d'indice (i,j+1)\n",
    "        j=j+1\n",
    "    return i,j\n",
    "\n",
    "print(suivante(0,0),suivante(0,8),suivante(8,8))\n"
   ]
  },
  {
   "cell_type": "markdown",
   "metadata": {},
   "source": [
    "## 3) Resolution  \n",
    "Voici enfin l'algorithme de resolution de grille de Sudoku, qui est court (mais relativement complexe).\n",
    "Il permet de fournir la résolution de la grille passée en paramètre à partir de la case (i,j) : \n",
    "> ***Fonction resoudre(Grille,i,j) :***   \n",
    "\n",
    ">*Si i = 9 alors renvoyer que la grille est globalement résolue*   \n",
    ">*Sinon si la case (i,j) est complétée alors résoudre la grille à partir de la case suivante*   \n",
    ">*Sinon si la case (i,j) n’est pas complétée alors:*    \n",
    ">>*Pour chaque valeur k possible à cet emplacement : (boucle)*   \n",
    ">>>*Remplir la case (i,j) avec k*   \n",
    ">>>*Si la grille est résolue à partir de la case suivante, alors renvoyer que la grille est globalement résolue*  \n",
    "\n",
    ">>*Si l’on sort de la boucle, alors vider la case (i,j) et renvoyer que la grille n’est pas globalement résolue*   \n"
   ]
  },
  {
   "cell_type": "markdown",
   "metadata": {},
   "source": [
    "### Exercice 7\n",
    "*Dans cette partie, répondre aux questions en complétant les cellules de texte.*"
   ]
  },
  {
   "cell_type": "markdown",
   "metadata": {},
   "source": [
    "1) Si l'on définie la fonction $resoudre(S,i,j)$ implémentant cet algorithme, quel est le type du résultat ?"
   ]
  },
  {
   "cell_type": "markdown",
   "metadata": {},
   "source": [
    "Cette fonction renvoie un booléen."
   ]
  },
  {
   "cell_type": "markdown",
   "metadata": {},
   "source": [
    "2) Quel appel doit-on faire initialement pour résoudre la grille S ?"
   ]
  },
  {
   "cell_type": "markdown",
   "metadata": {},
   "source": [
    "L'appel initial pour résoudre la grille S est resoudre(S,0,0)."
   ]
  },
  {
   "cell_type": "markdown",
   "metadata": {},
   "source": [
    "3) Cet algorithme est recursif. Indiquez à quel endroit dans l'algorithme ces appels recursifs sont effectués."
   ]
  },
  {
   "cell_type": "markdown",
   "metadata": {},
   "source": [
    "Il y a deux appels recursifs dans l'algorithme de la fonction resoudre :\n",
    "- Si la case (i,j) est complétée alors la fonction resoudre est appelée à partir de la case suivante\n",
    "- Dans la phase où l'on teste une valeur possible (boucle), on appelle la fonction resoudre à partir de la case suivante de celle dont on vient de faire l'affectation."
   ]
  },
  {
   "cell_type": "markdown",
   "metadata": {},
   "source": [
    "4) Identifier le cas élémentaire garantissant la terminaison de cet algorithme et expliquer succinctement pourquoi cet algorithme se termine. "
   ]
  },
  {
   "cell_type": "markdown",
   "metadata": {},
   "source": [
    "Le cas élémentaire correspond à un appel de la fonction resoudre avec un indice de ligne valant 9.\n",
    "Cela indique que toute la grille a été traitée.\n",
    "Comme les appels recursifs se font à chaque fois pour la case suivante de la case (i,j) passée en argument de l'appel initial, le variant 9-i tend vers 0."
   ]
  },
  {
   "cell_type": "markdown",
   "metadata": {},
   "source": [
    "### Exercice 8   \n",
    "Coder la fonction $resoudre(S,i,j)$ dans la cellule de code ci-dessous."
   ]
  },
  {
   "cell_type": "code",
   "execution_count": null,
   "metadata": {},
   "outputs": [],
   "source": [
    "from copy import deepcopy     # Pour copier la liste dans les tests\n",
    "\n",
    "\n",
    "def resoudre(S:list,i:int,j:int):\n",
    "    \"\"\"\n",
    "    Indique si la grille passée en paramètre est globalement résolue à partir de la case (i,j)\n",
    "    \"\"\"\n",
    "    # Cas d'arrêt de la récursivité, la grille est résolue si toute la grille a été parcourue\n",
    "    if i==9 :                \n",
    "        return True\n",
    "    \n",
    "    # Cas ou la case i,j est déjà remplie\n",
    "    elif S[i][j]!=0:\n",
    "        a,b=suivante(i,j)\n",
    "        return resoudre(S,a,b)\n",
    "    \n",
    "    # Cas où la case est vide. On teste alors séquentiellement les valeurs possibles pour cette case.\n",
    "    else :\n",
    "        for k in possibles(S,i,j):\n",
    "            S[i][j]=k\n",
    "            a,b=suivante(i,j)\n",
    "            if resoudre(S,a,b) :\n",
    "                return True\n",
    "        # On accede à cette partie du code si toutes les valeurs possibles ont été testées.\n",
    "        # On vide alors la case et on renvoie que la grille n'a pas été résolue\n",
    "        # Cela permet de revenir (recursivement) en arrière (backtracking).\n",
    "        S[i][j]=0\n",
    "        return False\n",
    "\n",
    "    \n",
    "# Test - Resolution de la grille S   \n",
    "# On duplique la grille de départ car elle va être modifiée par l'appel à la fonction de résolution \n",
    "Sres = deepcopy(S)          \n",
    "if resoudre(Sres,0,0) :\n",
    "    print(\"Pour la grille :\")\n",
    "    printSudoku(S)\n",
    "    print(\"La solution est :\")\n",
    "    printSudoku(Sres)\n",
    "else :\n",
    "    print(\"La grille n'admet pas de solution.\")\n",
    "    "
   ]
  },
  {
   "cell_type": "markdown",
   "metadata": {},
   "source": [
    "Vous pourrez vous amuser à vérifier si vous retrouvez le résultat fourni à la main..."
   ]
  }
 ],
 "metadata": {
  "kernelspec": {
   "display_name": "Python 3",
   "language": "python",
   "name": "python3"
  },
  "language_info": {
   "codemirror_mode": {
    "name": "ipython",
    "version": 3
   },
   "file_extension": ".py",
   "mimetype": "text/x-python",
   "name": "python",
   "nbconvert_exporter": "python",
   "pygments_lexer": "ipython3",
   "version": "3.7.6"
  }
 },
 "nbformat": 4,
 "nbformat_minor": 4
}
